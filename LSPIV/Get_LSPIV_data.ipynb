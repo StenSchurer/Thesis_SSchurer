{
 "cells": [
  {
   "cell_type": "markdown",
   "metadata": {},
   "source": [
    "# Statistics of LSPIV videos\n",
    "Sten Schurer"
   ]
  },
  {
   "cell_type": "code",
   "execution_count": 1,
   "metadata": {},
   "outputs": [],
   "source": [
    "import numpy as np\n",
    "import pandas as pd\n",
    "import matplotlib.pyplot as plt\n",
    "import os\n",
    "from tabulate import tabulate\n",
    "import glob"
   ]
  },
  {
   "cell_type": "markdown",
   "metadata": {},
   "source": [
    "load 3 txt files. Average.txt contains the x, y values and u_avg, v_avg values. Amount of values has values_u and N_2.\n",
    "Values_u and values_v have a hit at the same time. Stdv contains all velocity values per window. "
   ]
  },
  {
   "cell_type": "code",
   "execution_count": 2,
   "metadata": {},
   "outputs": [],
   "source": [
    "pth  = r'C:/Users/SSchurer/Documents/TU_Delft/Thesis/LSPIV/Edited/After rain/OSGGC_T1.8/'\n",
    "xy   = np.loadtxt(os.path.join(pth, 'average.txt'))\n",
    "d    = np.loadtxt(os.path.join(pth, 'amount_of_values.txt'))\n",
    "stdf = np.loadtxt(os.path.join(pth, 'stdv_file.txt'))\n",
    "\n",
    "if len(stdf) == 1537:\n",
    "    cor  = np.loadtxt(r'C:/Users/SSchurer/Documents/TU_Delft/Thesis/LSPIV/Edited/After rain/XY_after_rain.txt')\n",
    "elif len(stdf) == 6313:\n",
    "    cor  = np.loadtxt(r'C:/Users/SSchurer/Documents/TU_Delft/Thesis/LSPIV/Edited/After rain/XY_after_rain_W50.txt')\n",
    "elif len(stdf) == 5985:\n",
    "    cor  = np.loadtxt(r'C:/Users/SSchurer/Documents/TU_Delft/Thesis/LSPIV/Edited/After rain/XY_after_rain_W100.txt')\n",
    "else:\n",
    "    cor  = np.loadtxt(r'C:/Users/SSchurer/Documents/TU_Delft/Thesis/LSPIV/Edited/After rain/XY_after_rain_W200.txt') "
   ]
  },
  {
   "cell_type": "markdown",
   "metadata": {},
   "source": [
    "x        = x coordinate of the cell  \n",
    "y        = y coordinate of the cell  \n",
    "u_avg    = average speed in u direction of the cell (only of cells that have more than 50% of the time a hit)  \n",
    "v_avg    = average speed in v direction of the cell (only of cells that have more than 50% of the time a hit)  \n",
    "values_u = number of hits per cell  \n",
    "N_2      = only shows the number of hits per cell in cells that have more than 50% of the time a hit"
   ]
  },
  {
   "cell_type": "code",
   "execution_count": 3,
   "metadata": {
    "scrolled": true
   },
   "outputs": [
    {
     "name": "stdout",
     "output_type": "stream",
     "text": [
      "             X        Y  u_avg  v_avg  values_u  N_2\n",
      "0       2.2895  67.0444    NaN    NaN       0.0  0.0\n",
      "1       4.6022  67.0444    NaN    NaN       0.0  0.0\n",
      "2       6.9149  67.0444    NaN    NaN       0.0  0.0\n",
      "3       9.2276  67.0444    NaN    NaN       0.0  0.0\n",
      "4      11.5402  67.0444    NaN    NaN       0.0  0.0\n",
      "...        ...      ...    ...    ...       ...  ...\n",
      "1532  113.2979   2.2895    NaN    NaN       1.0  0.0\n",
      "1533  115.6105   2.2895    NaN    NaN       0.0  0.0\n",
      "1534  117.9232   2.2895    NaN    NaN       0.0  0.0\n",
      "1535  120.2359   2.2895    NaN    NaN       0.0  0.0\n",
      "1536  122.5486   2.2895    NaN    NaN       0.0  0.0\n",
      "\n",
      "[1537 rows x 6 columns]\n"
     ]
    }
   ],
   "source": [
    "xy = pd.DataFrame(xy)\n",
    "d  = pd.DataFrame(d)\n",
    "data  = pd.concat([xy, d], axis=1, sort=False)\n",
    "\n",
    "data.columns = ['X', 'Y', 'u_avg', 'v_avg', 'mask_avg', 'values_u', 'N_2', 'uu', 'vv', 'mask']\n",
    "data = data.drop(['mask_avg', 'uu', 'vv', 'mask'], axis=1)\n",
    "print(data)"
   ]
  },
  {
   "cell_type": "markdown",
   "metadata": {},
   "source": [
    "# Get the statistics\n",
    "Cells with hits  (number of values > 0 in values_u)  \n",
    "Average hits (average of values > 0  in values_u)  \n",
    "Cells with more than 50% of the time a hit (number of values > 0 in N_2)  \n",
    "Average velocity (vector u_avg + vector v_avg, both positive numbers, devided by the cells with hits > 50%)"
   ]
  },
  {
   "cell_type": "code",
   "execution_count": 4,
   "metadata": {
    "scrolled": true
   },
   "outputs": [],
   "source": [
    "Edit               = 'Edit'\n",
    "N                  = len(stdf[0])\n",
    "Grid_Cells         = len(stdf) \n",
    "\n",
    "# Cells with hits\n",
    "# use values_u and not u_avg because u_avg is only the average over >n/2\n",
    "Cells_w_hits    = 0\n",
    "values             = data.loc[:, 'values_u']\n",
    "for i in range(len(data)):\n",
    "    if values[i] > 0:\n",
    "        Cells_w_hits += 1\n",
    "Cells_with_hits = (Cells_w_hits / Grid_Cells) * 100\n",
    "\n",
    "# Average hits\n",
    "hits = 0\n",
    "for i in range(len(data)):\n",
    "    if values[i] > 0:\n",
    "        hits += values[i]\n",
    "        Average_hits = hits/Cells_w_hits\n",
    "Average_nr_of_hits = (Average_hits / N) * 100\n",
    "\n",
    "#>N/2\n",
    "N2 = 0\n",
    "values2 = data.loc[:, 'N_2']\n",
    "for i in range(len(data)):\n",
    "    if values2[i] > 0:\n",
    "        N2 += 1\n",
    "N_2 = (N2 / Grid_Cells) * 100\n",
    "\n",
    "# Average velocity\n",
    "vector           = abs(data.loc[:, 'u_avg']) + abs(data.loc[:, 'v_avg'])\n",
    "total_velocity   = np.nansum(vector)\n",
    "Average_velocity = total_velocity/N2"
   ]
  },
  {
   "cell_type": "markdown",
   "metadata": {},
   "source": [
    "## STDV\n",
    "Open all stdv files and remove all columns but the last. Concatenate all columns and save the stdv_file"
   ]
  },
  {
   "cell_type": "raw",
   "metadata": {},
   "source": [
    "folder_path = (r'C:/Users/SSchurer/Documents/TU_Delft/Thesis/LSPIV/Edited/After rain/OSGGC_W100/STDV/')\n",
    "d = pd.DataFrame()\n",
    "for i in glob.glob(os.path.join(folder_path, '*.txt')):\n",
    "    with open(i, 'r') as f:\n",
    "        stdv = np.loadtxt(i)\n",
    "        std  = pd.DataFrame(stdv)\n",
    "        a    = std.drop([0, 1, 2], axis = 1)\n",
    "        b    = a.abs()\n",
    "        c    = b.sum(axis=1)\n",
    "        c[c == 0.0] = np.nan\n",
    "        d    = pd.concat([d, c], axis=1, sort=False)\n",
    "        np.savetxt(r'C:/Users/SSchurer/Documents/TU_Delft/Thesis/LSPIV/Edited/After rain/OSGGC_W100/stdv_file.txt', d)"
   ]
  },
  {
   "cell_type": "code",
   "execution_count": 5,
   "metadata": {},
   "outputs": [
    {
     "name": "stderr",
     "output_type": "stream",
     "text": [
      "C:\\Users\\SSchurer\\anaconda3\\envs\\thesis\\lib\\site-packages\\numpy\\lib\\nanfunctions.py:1667: RuntimeWarning: Degrees of freedom <= 0 for slice.\n",
      "  keepdims=keepdims)\n"
     ]
    }
   ],
   "source": [
    "stdevS = stdf.std(1)                 # S is sample of the population (axis=1)\n",
    "stdevP = np.nanstd(stdf, axis = 1)   # P is population (use P)\n",
    "\n",
    "Average_stdevS = np.nanmean(stdevS)\n",
    "Average_stdevP = np.nanmean(stdevP)"
   ]
  },
  {
   "cell_type": "markdown",
   "metadata": {},
   "source": [
    "## Include XY coordinates (After Rain)\n",
    "0,0 is 30.21655562, -14.99441326 for: After Rain  \n",
    "For windowsize 100 overlap 50 the following parameters apply:  \n",
    "The scaling factor is 21.62 pix/m  \n",
    "windowsize = 100  \n",
    "overlap    = 50  \n",
    "pixels     = 2704 x 1520\n",
    "grid cells = 29 x 53"
   ]
  },
  {
   "cell_type": "code",
   "execution_count": 6,
   "metadata": {},
   "outputs": [
    {
     "name": "stdout",
     "output_type": "stream",
     "text": [
      "                    long                 lat   index                    X  \\\n",
      "0     30.217712355384599 -14.994338339999995     0.0    2.289500000000000   \n",
      "1     30.217690285192290 -14.994339534999996     1.0    4.602200000000000   \n",
      "2     30.217668214999982 -14.994340729999996     2.0    6.914900000000000   \n",
      "3     30.217646144807677 -14.994341924999997     3.0    9.227600000000001   \n",
      "4     30.217624074615369 -14.994343119999996     4.0   11.540200000000000   \n",
      "...                  ...                 ...     ...                  ...   \n",
      "1532  30.216621550769229 -14.993769520000001  1532.0  113.297899999999998   \n",
      "1533  30.216599480576921 -14.993770715000000  1533.0  115.610500000000002   \n",
      "1534  30.216577410384616 -14.993771910000000  1534.0  117.923199999999994   \n",
      "1535  30.216555340192308 -14.993773105000001  1535.0  120.235900000000001   \n",
      "1536  30.216533269999999 -14.993774300000000  1536.0  122.548599999999993   \n",
      "\n",
      "                       Y  u_avg  v_avg  values_u  N_2  \n",
      "0     67.044399999999996    NaN    NaN       0.0  0.0  \n",
      "1     67.044399999999996    NaN    NaN       0.0  0.0  \n",
      "2     67.044399999999996    NaN    NaN       0.0  0.0  \n",
      "3     67.044399999999996    NaN    NaN       0.0  0.0  \n",
      "4     67.044399999999996    NaN    NaN       0.0  0.0  \n",
      "...                  ...    ...    ...       ...  ...  \n",
      "1532   2.289500000000000    NaN    NaN       1.0  0.0  \n",
      "1533   2.289500000000000    NaN    NaN       0.0  0.0  \n",
      "1534   2.289500000000000    NaN    NaN       0.0  0.0  \n",
      "1535   2.289500000000000    NaN    NaN       0.0  0.0  \n",
      "1536   2.289500000000000    NaN    NaN       0.0  0.0  \n",
      "\n",
      "[1537 rows x 9 columns]\n"
     ]
    }
   ],
   "source": [
    "XY = pd.DataFrame(cor)\n",
    "XY.columns = ['long', 'lat', 'index']\n",
    "DATA = pd.concat([XY, data], axis=1, sort=False)\n",
    "pd.set_option(\"display.precision\", 15)\n",
    "print(DATA)"
   ]
  },
  {
   "cell_type": "markdown",
   "metadata": {},
   "source": [
    "## Current meter velocity"
   ]
  },
  {
   "cell_type": "code",
   "execution_count": 7,
   "metadata": {},
   "outputs": [
    {
     "name": "stdout",
     "output_type": "stream",
     "text": [
      "0.93 1.24 1.3 1.25 1.55 1.01 0.62 0.55\n",
      "1.05625\n"
     ]
    }
   ],
   "source": [
    "CM  = np.loadtxt(r'C:/Users/SSchurer/Documents/TU_Delft/Thesis/Current_meter/flow_velocity.txt', skiprows=(1))\n",
    "CMM = pd.DataFrame(CM)\n",
    "CMM.columns = ['Latitude', 'Longitude', 'Velocity']\n",
    "\n",
    "CM1           = 35\n",
    "CM1_vel       = CMM['Velocity'].iloc[34]\n",
    "CM2           = 36\n",
    "CM2_vel       = CMM['Velocity'].iloc[35]\n",
    "CM3           = 37\n",
    "CM3_vel       = CMM['Velocity'].iloc[36]\n",
    "CM4           = 41\n",
    "CM4_vel       = CMM['Velocity'].iloc[40]\n",
    "CM5           = 42\n",
    "CM5_vel       = CMM['Velocity'].iloc[41]\n",
    "CM6           = 38\n",
    "CM6_vel       = CMM['Velocity'].iloc[37]\n",
    "CM7           = 39\n",
    "CM7_vel       = CMM['Velocity'].iloc[38]\n",
    "CM8           = 40\n",
    "CM8_vel       = CMM['Velocity'].iloc[39]\n",
    "\n",
    "CM1_line      = 1455\n",
    "CM2_line      = 1405\n",
    "CM3_line      = 1197\n",
    "CM4_line      = 937\n",
    "CM5_line      = 774\n",
    "CM6_line      = 940\n",
    "CM7_line      = 784\n",
    "CM8_line      = 736\n",
    "\n",
    "CM1_line_W50  = 6042\n",
    "CM2_line_W50  = 5726\n",
    "CM3_line_W50  = 4877\n",
    "CM4_line_W50  = 3925\n",
    "CM5_line_W50  = 3062\n",
    "CM6_line_W50  = 3824\n",
    "CM7_line_W50  = 3189\n",
    "CM8_line_W50  = 2877\n",
    "\n",
    "CM1_line_W100 = 5719\n",
    "CM2_line_W100 = 5409\n",
    "CM3_line_W100 = 4681\n",
    "CM4_line_W100 = 3641\n",
    "CM5_line_W100 = 2900\n",
    "CM6_line_W100 = 3648\n",
    "CM7_line_W100 = 3024\n",
    "CM8_line_W100 = 2718\n",
    "\n",
    "CM1_line_W200 = 349\n",
    "CM2_line_W200 = 325\n",
    "CM3_line_W200 = 275\n",
    "CM4_line_W200 = 225\n",
    "CM5_line_W200 = 172\n",
    "CM6_line_W200 = 227\n",
    "CM7_line_W200 = 202\n",
    "CM8_line_W200 = 178\n",
    "\n",
    "print(CM1_vel, CM2_vel, CM3_vel, CM4_vel, CM5_vel, CM6_vel, CM7_vel, CM8_vel)\n",
    "average_vel = np.mean([CM1_vel, CM2_vel, CM3_vel, CM4_vel, CM5_vel, CM6_vel, CM7_vel, CM8_vel])\n",
    "print(average_vel)\n",
    "# print(DATA.loc[CM8_line])"
   ]
  },
  {
   "cell_type": "markdown",
   "metadata": {},
   "source": [
    "## Mean Absolute Deviation (MAD)"
   ]
  },
  {
   "cell_type": "code",
   "execution_count": 8,
   "metadata": {},
   "outputs": [
    {
     "name": "stdout",
     "output_type": "stream",
     "text": [
      "1.0334326923076922\n",
      "                   0\n",
      "0                NaN\n",
      "1  0.206567307692308\n",
      "2  0.071152941176471\n",
      "3  0.033615000000000\n",
      "4  0.295226612903226\n",
      "5  0.134502734375000\n",
      "6                NaN\n",
      "7  0.310983333333333\n"
     ]
    }
   ],
   "source": [
    "CM1_row = []\n",
    "CM2_row = []\n",
    "CM3_row = []\n",
    "CM4_row = []\n",
    "CM5_row = []\n",
    "CM6_row = []\n",
    "CM7_row = []\n",
    "CM8_row = []\n",
    "\n",
    "row     = [CM1_row, CM2_row, CM3_row, CM4_row, CM5_row, CM6_row, CM7_row, CM8_row]\n",
    "line    = [CM1_line, CM2_line, CM3_line, CM4_line, CM5_line, CM6_line, CM7_line, CM8_line]\n",
    "line50  = [CM1_line_W50, CM2_line_W50, CM3_line_W50, CM4_line_W50, CM5_line_W50, CM6_line_W50, CM7_line_W50, CM8_line_W50]\n",
    "line100 = [CM1_line_W100, CM2_line_W100, CM3_line_W100, CM4_line_W100, CM5_line_W100, CM6_line_W100, CM7_line_W100, CM8_line_W100]\n",
    "line200 = [CM1_line_W200, CM2_line_W200, CM3_line_W200, CM4_line_W200, CM5_line_W200, CM6_line_W200, CM7_line_W200, CM8_line_W200]\n",
    "\n",
    "velocity = pd.DataFrame(stdf)\n",
    "\n",
    "for i in range(len(row)):\n",
    "    if len(stdf) == 1537:\n",
    "        r = velocity.iloc[line[i]]\n",
    "        row[i].append(r)\n",
    "    elif len(stdf) == 6313:\n",
    "        r = velocity.iloc[line50[i]]\n",
    "        row[i].append(r)\n",
    "    elif len(stdf) == 5985:\n",
    "        r = velocity.iloc[line100[i]]\n",
    "        row[i].append(r)\n",
    "    else:\n",
    "        r = velocity.iloc[line200[i]]\n",
    "        row[i].append(r)\n",
    "\n",
    "mad1 = []\n",
    "mad2 = []\n",
    "mad3 = []\n",
    "mad4 = []\n",
    "mad5 = []\n",
    "mad6 = []\n",
    "mad7 = []\n",
    "mad8 = []\n",
    "print(np.nanmean(row[1]))\n",
    "vel = [CM1_vel, CM2_vel, CM3_vel, CM4_vel, CM5_vel, CM6_vel, CM7_vel, CM8_vel]\n",
    "mad = [mad1, mad2, mad3, mad4, mad5, mad6, mad7, mad8]\n",
    "\n",
    "for i in range(len(vel)):\n",
    "    for j in range(len(CM1_row)):\n",
    "        nr = abs(vel[i]) - abs(row[i][j])\n",
    "        mad[i].append(abs(nr.mean()))     \n",
    "\n",
    "MAD = pd.DataFrame(mad1 + mad2 + mad3 + mad4 + mad5 + mad6 + mad7 + mad8)\n",
    "print(MAD)\n",
    "mad_average = np.nanmean(MAD)\n",
    "\n",
    "CM1_row = pd.DataFrame(CM1_row[0])\n",
    "CM2_row = pd.DataFrame(CM2_row[0])\n",
    "CM3_row = pd.DataFrame(CM3_row[0])\n",
    "CM4_row = pd.DataFrame(CM4_row[0])\n",
    "CM5_row = pd.DataFrame(CM5_row[0])\n",
    "CM6_row = pd.DataFrame(CM6_row[0])\n",
    "CM7_row = pd.DataFrame(CM7_row[0])\n",
    "CM8_row = pd.DataFrame(CM8_row[0])"
   ]
  },
  {
   "cell_type": "markdown",
   "metadata": {},
   "source": [
    "## Make table"
   ]
  },
  {
   "cell_type": "code",
   "execution_count": 9,
   "metadata": {},
   "outputs": [
    {
     "name": "stdout",
     "output_type": "stream",
     "text": [
      "Edit      Images    Grid cells    % hits    Average % hits    % cells >N/2    Average velocity    Average STDV    MAD\n",
      "Edit         300          1537        35                31               9                1.08           0.276  0.175\n"
     ]
    }
   ],
   "source": [
    "table = [[Edit, N+1, Grid_Cells, np.round(Cells_with_hits, 0), np.round(Average_nr_of_hits, 0), np.round(N_2, 0), np.round(Average_velocity, 2), np.round(Average_stdevP, 3), np.round(mad_average, 3)] ]\n",
    "headers=['Edit', 'Images', 'Grid cells', '% hits', 'Average % hits', '% cells >N/2', 'Average velocity', 'Average STDV', 'MAD']\n",
    "\n",
    "tab = (tabulate(table, headers, tablefmt=\"plain\"))\n",
    "print(tab)"
   ]
  },
  {
   "cell_type": "markdown",
   "metadata": {},
   "source": [
    "## Make plots\n",
    "Creating a dataframe with 2 columns. 1 all LSPIV values in the window closest to the CM measurement (length of the column is number of images). 2 Current Meter measurement belonging to the cell. "
   ]
  },
  {
   "cell_type": "code",
   "execution_count": 10,
   "metadata": {},
   "outputs": [],
   "source": [
    "CMD1 = []\n",
    "CMD2 = []\n",
    "CMD3 = []\n",
    "CMD4 = []\n",
    "CMD5 = []\n",
    "CMD6 = []\n",
    "CMD7 = []\n",
    "CMD8 = []\n",
    "CMD  = [CMD1, CMD2, CMD3, CMD4, CMD5, CMD6, CMD7, CMD8]\n",
    "row  = [CM1_row, CM2_row, CM3_row, CM4_row, CM5_row, CM6_row, CM7_row, CM8_row]\n",
    "\n",
    "for i in range (len(CMD)):\n",
    "    V  = np.array([vel[i]])\n",
    "    CX = np.repeat(V, 299)\n",
    "    CXX = pd.DataFrame(CX)\n",
    "    CMX = pd.concat([row[i], CXX], axis=1, sort=False)\n",
    "    CMD[i].append([CMX])\n",
    "    \n",
    "CMD1 = pd.DataFrame(CMD1[0][0])\n",
    "CMD2 = pd.DataFrame(CMD2[0][0])\n",
    "CMD3 = pd.DataFrame(CMD3[0][0])\n",
    "CMD4 = pd.DataFrame(CMD4[0][0])\n",
    "CMD5 = pd.DataFrame(CMD5[0][0])\n",
    "CMD6 = pd.DataFrame(CMD6[0][0])\n",
    "CMD7 = pd.DataFrame(CMD7[0][0])\n",
    "CMD8 = pd.DataFrame(CMD8[0][0])\n",
    "\n",
    "CMT = np.vstack((CMD1, CMD2, CMD3, CMD4, CMD5, CMD6, CMD7, CMD8))\n",
    "CMT = pd.DataFrame(CMT)\n",
    "CMT.columns = ['LSPIV', 'CM']"
   ]
  },
  {
   "cell_type": "code",
   "execution_count": 11,
   "metadata": {},
   "outputs": [
    {
     "name": "stderr",
     "output_type": "stream",
     "text": [
      "C:\\Users\\SSchurer\\AppData\\Roaming\\Python\\Python37\\site-packages\\ipykernel_launcher.py:22: RuntimeWarning: Mean of empty slice\n",
      "C:\\Users\\SSchurer\\anaconda3\\envs\\thesis\\lib\\site-packages\\numpy\\lib\\nanfunctions.py:1667: RuntimeWarning: Degrees of freedom <= 0 for slice.\n",
      "  keepdims=keepdims)\n"
     ]
    },
    {
     "name": "stdout",
     "output_type": "stream",
     "text": [
      "      X                  Y                  E    H\n",
      "0  1.24  1.033432692307692  0.325464573117090   52\n",
      "1  1.30  1.228847058823529  0.413395633977772  187\n",
      "2  1.25  1.216385000000000  0.320328629535357  160\n",
      "3  1.55  1.254773387096774  0.222950712081302  124\n",
      "4  1.01  1.144502734375000  0.361107471927106  256\n",
      "5  0.55  0.239016666666667  0.086381391064408    6\n"
     ]
    },
    {
     "data": {
      "image/png": "[encoded data removed]",
      "text/plain": [
       "<Figure size 432x432 with 1 Axes>"
      ]
     },
     "metadata": {
      "needs_background": "light"
     },
     "output_type": "display_data"
    },
    {
     "name": "stdout",
     "output_type": "stream",
     "text": [
      "Edit      Images    Grid cells    % hits    Average % hits    % cells >N/2    Average velocity    Average STDV    MAD\n",
      "Edit         300          1537        35                31               9                1.08           0.276  0.175\n"
     ]
    },
    {
     "data": {
      "image/png": "[encoded data removed]",
      "text/plain": [
       "<Figure size 432x432 with 1 Axes>"
      ]
     },
     "metadata": {
      "needs_background": "light"
     },
     "output_type": "display_data"
    }
   ],
   "source": [
    "fig = plt.figure(figsize=(6, 6))\n",
    "ax1 = plt.gca()\n",
    "ax1.set(ylim=(0, 1.7))\n",
    "ax1.set(xlim=(0, 1.7))\n",
    "x = np.linspace(0, 1.8, 10)\n",
    "one_one = 1*x\n",
    "plt.plot(one_one, x, 'k:', zorder=0)\n",
    "\n",
    "hit = [0]*8\n",
    "for i in range(len(row)):\n",
    "    for j in range(len(CM1_row)):\n",
    "        p = np.nan_to_num((row[i]))\n",
    "        if p[j] > 0:\n",
    "            hit[i] += 1\n",
    "hit = np.array([hit])\n",
    "hit = pd.DataFrame(hit).T\n",
    "\n",
    "X = pd.DataFrame([CM1_vel, CM2_vel, CM3_vel, CM4_vel, CM5_vel, CM6_vel, CM7_vel, CM8_vel])\n",
    "\n",
    "y = []\n",
    "for i in range(len(row)):\n",
    "    yr = np.nanmean(row[i])\n",
    "    y.append(yr)\n",
    "    \n",
    "Y = pd.DataFrame(y)\n",
    "\n",
    "e = []\n",
    "for i in range(len(row)):\n",
    "    er = np.nanstd(row[i])\n",
    "    e.append(er)\n",
    "    \n",
    "E = pd.DataFrame(e) \n",
    "\n",
    "xye = pd.concat([X, Y, E, hit], axis=1, sort=False)\n",
    "xye.columns=['X', 'Y', 'E', 'H']\n",
    "XYE = xye.dropna()\n",
    "XYE.index = np.arange(XYE.shape[0])\n",
    "\n",
    "print(XYE)\n",
    "plt.errorbar(XYE['X'], XYE['Y'], XYE['E'], capsize=5, linestyle='', marker ='o', color='k')\n",
    "\n",
    "polynomial = np.polyfit(XYE['X'], XYE['Y'], 1)\n",
    "\n",
    "#plot the polynomial\n",
    "ynew = np.poly1d(polynomial)\n",
    "poly_track_rtk_Z = pd.DataFrame(ynew(x))\n",
    "plt.plot(x, poly_track_rtk_Z, 'r', label= np.round(polynomial, 3), zorder=1)\n",
    "plt.xlabel('Current meter [m/s]', fontsize=13)\n",
    "plt.ylabel('LSPIV [m/s]', fontsize=13)\n",
    "plt.title('After rain', fontsize = 15)\n",
    "plt.legend(fontsize=15)\n",
    "\n",
    "for i in range(len(XYE)):\n",
    "    plt.annotate(XYE['H'][i], xy=(XYE['X'][i] +0.05, XYE['Y'][i] +0.01))\n",
    "# plt.savefig('C:/Users/SSchurer/Documents/TU_Delft/Thesis/LSPIV/Results/LSPIV_CM/AR.png')\n",
    "plt.show()\n",
    "\n",
    "plt.figure(figsize=(6,6))\n",
    "ax1 = plt.gca()\n",
    "ax1.set(ylim=(-0.1, 1.2))\n",
    "ax1.set(xlim=(-0.15, 0.15))\n",
    "plt.plot(data.loc[:, 'u_avg'], data.loc[:, 'v_avg'], 'ko', markersize = 1)\n",
    "# plt.axis('scaled')\n",
    "plt.xlabel('Vx [m/s]', fontsize=13)\n",
    "plt.ylabel('Vy [m/s]', fontsize=13)\n",
    "plt.title('After rain', fontsize=15);\n",
    "\n",
    "# plt.savefig('C:/Users/SSchurer/Documents/TU_Delft/Thesis/LSPIV/Results/Velocity_vectors/AR.png')\n",
    "print(tab)\n"
   ]
  },
  {
   "cell_type": "markdown",
   "metadata": {},
   "source": [
    "## Get the coordinates and velocity of 5 windows\n",
    "The 5 windows are chosen on their location and number of calculated velocities"
   ]
  },
  {
   "cell_type": "raw",
   "metadata": {},
   "source": [
    "NNaN = DATA[DATA['N_2'] == 0].index\n",
    "DATA.drop(NNaN , inplace=True)\n",
    "\n",
    "one   = (DATA[DATA.values_u == DATA.values_u.max()]) \n",
    "two   = (DATA[DATA.long == DATA.long.max()])\n",
    "three = (DATA[DATA.long == DATA.long.min()])\n",
    "four  = (DATA[DATA.lat == DATA.lat.max()])\n",
    "five  = (DATA[DATA.lat == DATA.lat.min()])\n",
    "D3D   = pd.concat([one, two, three, four, five])\n",
    "D3D.index = np.arange(D3D.shape[0])\n",
    "print(D3D)"
   ]
  },
  {
   "cell_type": "raw",
   "metadata": {},
   "source": [
    "fig = plt.figure(figsize=(6, 6))\n",
    "ax1 = plt.gca()\n",
    "\n",
    "color=np.sqrt(D3D.v_avg**2 + D3D.u_avg**2)\n",
    "plt.quiver(D3D.X, D3D.Y, D3D.u_avg, D3D.v_avg, color)\n",
    "plt.axis('scaled')\n",
    "plt.colorbar();\n",
    "\n",
    "ax1.set(ylim=(0, 70))\n",
    "ax1.set(xlim=(0, 120))"
   ]
  },
  {
   "cell_type": "raw",
   "metadata": {},
   "source": [
    "a = pd.DataFrame([200677.41696337739, 8340460.136774917,  abs(D3D.u_avg[0]) + abs(D3D.v_avg[0])]).T\n",
    "b = pd.DataFrame([200702.91821734112, 8340471.818908152,  abs(D3D.u_avg[1]) + abs(D3D.v_avg[1])]).T\n",
    "c = pd.DataFrame([200658.12457659742, 8340463.788380414, abs(D3D.u_avg[2]) + abs(D3D.v_avg[2])]).T\n",
    "d = pd.DataFrame([200685.5434868142, 8340483.056323659, abs(D3D.u_avg[3]) + abs(D3D.v_avg[3])]).T\n",
    "e = pd.DataFrame([200684.89948885125, 8340415.919495538, abs(D3D.u_avg[4]) + abs(D3D.v_avg[4])]).T\n",
    "\n",
    "lat_lon = pd.concat([a,b,c, d, e])\n",
    "lat_lon.columns = (['Lat', 'Lon', 'Vel'])\n",
    "lat_lon.index = np.arange(lat_lon.shape[0])\n",
    "print(lat_lon)"
   ]
  }
 ],
 "metadata": {
  "kernelspec": {
   "display_name": "thesis",
   "language": "python",
   "name": "thesis"
  },
  "language_info": {
   "codemirror_mode": {
    "name": "ipython",
    "version": 3
   },
   "file_extension": ".py",
   "mimetype": "text/x-python",
   "name": "python",
   "nbconvert_exporter": "python",
   "pygments_lexer": "ipython3",
   "version": "3.7.6"
  }
 },
 "nbformat": 4,
 "nbformat_minor": 4
}
