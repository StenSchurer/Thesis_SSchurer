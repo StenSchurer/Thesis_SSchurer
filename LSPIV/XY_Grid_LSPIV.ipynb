{
 "cells": [
  {
   "cell_type": "markdown",
   "metadata": {},
   "source": [
    "# Creating a grid of X and Y coordinates that correlate to the grid made by the LSPIV script\n",
    "\n",
    "Sten Schurer\n",
    "\n",
    "0,0 is 30.21655562, -14.99441326 for: After Rain  \n",
    "The scaling factor is 21.62 pix/m  \n",
    "windowsize = 100  \n",
    "overlap    = 50  \n",
    "pixels     = 2704 x 1520\n",
    "grid cells = 29 x 53"
   ]
  },
  {
   "cell_type": "code",
   "execution_count": 1,
   "metadata": {},
   "outputs": [],
   "source": [
    "import numpy as np\n",
    "import matplotlib.pyplot as plt\n",
    "import pandas as pd\n",
    "import os\n",
    "import re\n",
    "from tabulate import tabulate"
   ]
  },
  {
   "cell_type": "markdown",
   "metadata": {},
   "source": [
    "### 3 corner points from the image\n",
    "1 = south west  \n",
    "2 = north west  \n",
    "3 = south east"
   ]
  },
  {
   "cell_type": "code",
   "execution_count": 2,
   "metadata": {},
   "outputs": [],
   "source": [
    "one_lat    = (-14.99440048)\n",
    "one_long   = (30.21656673)\n",
    "two_lat    = (-14.99377430)\n",
    "two_long   = (30.21653327)\n",
    "three_lat  = (-14.99434210)\n",
    "three_long = (30.21771438)"
   ]
  },
  {
   "cell_type": "markdown",
   "metadata": {},
   "source": [
    "1: make steps, 29 for latitude and 53 longitude  \n",
    "2: make the first line start with point 2 and add the steps"
   ]
  },
  {
   "cell_type": "code",
   "execution_count": 3,
   "metadata": {},
   "outputs": [
    {
     "name": "stdout",
     "output_type": "stream",
     "text": [
      "-0.0006261799999993656\n",
      "3.346000000092886e-05\n",
      "-5.8379999998692256e-05\n",
      "-0.0011476500000000556\n"
     ]
    }
   ],
   "source": [
    "#Latitude and longitude difference between 1/2 & 1/3\n",
    "lat12  = one_lat  - two_lat\n",
    "long12 = one_long - two_long\n",
    "lat13  = one_lat  - three_lat\n",
    "long13 = one_long - three_long\n",
    "print(lat12)\n",
    "print(long12)\n",
    "print(lat13)\n",
    "print(long13)\n",
    "\n",
    "#Latitude and Longitude difference per step\n",
    "lat12_step  = lat12  / 13\n",
    "long12_step = long12 / 13\n",
    "lat13_step  = lat13  / 25\n",
    "long13_step = long13 / 25\n",
    "\n",
    "#make the first 53 lines\n",
    "step2 = np.linspace(0, 25, 26)\n",
    "Y12    = []\n",
    "X12    = []\n",
    "diff   = []\n",
    "for i in range(len(step2)):\n",
    "    Y12.append(two_lat  + step2[i] * long12_step)\n",
    "    X12.append(two_long - step2[i] * long13_step)\n",
    "\n",
    "pd.set_option(\"display.precision\", 8)\n",
    "Y12= pd.DataFrame(Y12)\n",
    "X12 = pd.DataFrame(X12)\n",
    "XY12 = pd.concat([X12, Y12], axis=1, sort=False)\n",
    "XY12.index = np.arange(XY12.shape[0])\n",
    "# print(XY12)\n",
    "# np.savetxt(r'C:/Users/SSchurer/Documents/TU_Delft/Thesis/LSPIV/Edited/After rain/XY_line_W200.txt', XY12, header='# #')"
   ]
  },
  {
   "cell_type": "code",
   "execution_count": 4,
   "metadata": {},
   "outputs": [],
   "source": [
    "XY_ful = pd.DataFrame()\n",
    "\n",
    "for p in range(13):\n",
    "    Y12 = Y12 + lat12_step\n",
    "    X12 = X12 - lat13_step\n",
    "    XY_new = pd.concat([X12, Y12], axis=1, sort=False)\n",
    "    XY_ful   = pd.concat([XY_ful, XY_new], axis=0, sort=False)\n",
    "XY_full = pd.concat([XY12, XY_ful], axis=0, sort=False)\n",
    "XY_full.index = np.arange(XY_full.shape[0])\n",
    "XY_after_rain = XY_full.reindex(index=XY_full.index[::-1])\n",
    "XY_after_rain.index = np.arange(XY_after_rain.shape[0])\n",
    "index = np.linspace(0, (len(XY_after_rain)-1), len(XY_after_rain))\n",
    "index = pd.DataFrame(index)\n",
    "XY_after_r = pd.concat([XY_after_rain, index], axis=1, sort=False)\n",
    "XY_after_r.columns = ['Long', 'Lat', 'index']\n",
    "# print(XY_after_r)\n",
    "# np.savetxt(r'C:/Users/SSchurer/Documents/TU_Delft/Thesis/LSPIV/Edited/After rain/XY_after_rain_W200.txt', XY_after_r, header='# # #')"
   ]
  }
 ],
 "metadata": {
  "kernelspec": {
   "display_name": "thesis",
   "language": "python",
   "name": "thesis"
  },
  "language_info": {
   "codemirror_mode": {
    "name": "ipython",
    "version": 3
   },
   "file_extension": ".py",
   "mimetype": "text/x-python",
   "name": "python",
   "nbconvert_exporter": "python",
   "pygments_lexer": "ipython3",
   "version": "3.7.6"
  }
 },
 "nbformat": 4,
 "nbformat_minor": 4
}
