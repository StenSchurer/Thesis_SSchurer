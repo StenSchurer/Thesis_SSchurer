{
 "cells": [
  {
   "cell_type": "markdown",
   "metadata": {},
   "source": [
    "# River Pointcloud\n",
    "### Assign depths to corresponding X and Y coordinates of the river pointcloud by making bins of the RTK track polyline Y coordinate\n",
    "\n",
    "Please note: the RTK waterline track and the left/right bank tracks are included, however they are separated afterwards in order to get a better rasterization result.  \n",
    "Sten Schurer"
   ]
  },
  {
   "cell_type": "code",
   "execution_count": 1,
   "metadata": {},
   "outputs": [],
   "source": [
    "import numpy as np\n",
    "import matplotlib.pyplot as plt\n",
    "import pandas as pd\n",
    "import os\n",
    "import re"
   ]
  },
  {
   "cell_type": "markdown",
   "metadata": {},
   "source": [
    "#### Import data"
   ]
  },
  {
   "cell_type": "code",
   "execution_count": 2,
   "metadata": {},
   "outputs": [
    {
     "name": "stdout",
     "output_type": "stream",
     "text": [
      "                  X             Y  Depth\n",
      "0     200613.196892  8.340895e+06  1.238\n",
      "1     200613.181050  8.340894e+06  1.245\n",
      "2     200613.198137  8.340894e+06  1.238\n",
      "3     200613.240594  8.340894e+06  1.252\n",
      "4     200613.287502  8.340894e+06  1.238\n",
      "...             ...           ...    ...\n",
      "4262  200661.853407  8.340367e+06  0.493\n",
      "4263  200661.755314  8.340366e+06  0.555\n",
      "4264  200661.617030  8.340365e+06  0.380\n",
      "4265  200661.457264  8.340364e+06  0.414\n",
      "4266  200661.261217  8.340363e+06  0.290\n",
      "\n",
      "[4267 rows x 3 columns]\n",
      "                 Y           Z\n",
      "0     8.341003e+06  352.220007\n",
      "1     8.341003e+06  352.219761\n",
      "2     8.341002e+06  352.219516\n",
      "3     8.341002e+06  352.219271\n",
      "4     8.341001e+06  352.219025\n",
      "...            ...         ...\n",
      "1494  8.340222e+06  351.853539\n",
      "1495  8.340221e+06  351.853293\n",
      "1496  8.340221e+06  351.853048\n",
      "1497  8.340220e+06  351.852803\n",
      "1498  8.340220e+06  351.852557\n",
      "\n",
      "[1499 rows x 2 columns]\n",
      "                 X             Y        Z\n",
      "0    200498.394202  8.340838e+06  352.140\n",
      "1    200498.553444  8.340837e+06  352.140\n",
      "2    200498.687249  8.340837e+06  352.093\n",
      "3    200498.919503  8.340836e+06  352.130\n",
      "4    200499.219344  8.340836e+06  352.120\n",
      "..             ...           ...      ...\n",
      "892  200653.774242  8.340428e+06  352.081\n",
      "893  200653.777008  8.340428e+06  352.098\n",
      "894  200653.779865  8.340428e+06  352.083\n",
      "895  200653.785084  8.340428e+06  352.060\n",
      "896  200653.781671  8.340428e+06  352.084\n",
      "\n",
      "[897 rows x 3 columns]\n"
     ]
    }
   ],
   "source": [
    "river = pd.DataFrame(pd.read_csv(os.path.join(r'C:\\Users\\SSchurer\\Documents\\TU_Delft\\Thesis\\TNDTT\\River', 'XYD.csv')))\n",
    "rtk_poly = pd.DataFrame(pd.read_csv(os.path.join(r'C:\\Users\\SSchurer\\Documents\\TU_Delft\\Thesis\\TNDTT\\River', 'rtk_poly_extrapolated.txt'), delimiter = ' '))\n",
    "rtk_track = pd.read_excel(os.path.join(r'C:\\Users\\SSchurer\\Documents\\TU_Delft\\Thesis\\RTK\\17-12', 'waterline_height_XYZ.xls'))\n",
    "rtk_poly.columns = ['Y', 'Z']\n",
    "rtk_track.columns = ['X', 'Y', 'Z']\n",
    "print(river)\n",
    "print(rtk_poly)\n",
    "print(rtk_track)"
   ]
  },
  {
   "cell_type": "markdown",
   "metadata": {},
   "source": [
    "#### Make bins of the Y coordinate polynomial of the RTK waterline track\n",
    "#### Subdivide the river point cloud X,Y coordinates in the bins"
   ]
  },
  {
   "cell_type": "code",
   "execution_count": 3,
   "metadata": {},
   "outputs": [
    {
     "name": "stdout",
     "output_type": "stream",
     "text": [
      "208\n",
      "4267\n"
     ]
    }
   ],
   "source": [
    "indices = np.digitize(x = river['Y'], bins = rtk_poly['Y'], right = False)\n",
    "print(indices.min())\n",
    "print(len(indices))"
   ]
  },
  {
   "cell_type": "code",
   "execution_count": 4,
   "metadata": {},
   "outputs": [
    {
     "name": "stdout",
     "output_type": "stream",
     "text": [
      "                 Y           Z\n",
      "208   8.340894e+06  352.168986\n",
      "208   8.340894e+06  352.168986\n",
      "208   8.340894e+06  352.168986\n",
      "208   8.340894e+06  352.168986\n",
      "208   8.340894e+06  352.168986\n",
      "...            ...         ...\n",
      "1217  8.340367e+06  351.921485\n",
      "1219  8.340365e+06  351.920994\n",
      "1220  8.340365e+06  351.920749\n",
      "1222  8.340364e+06  351.920258\n",
      "1224  8.340363e+06  351.919768\n",
      "\n",
      "[4267 rows x 2 columns]\n"
     ]
    }
   ],
   "source": [
    "height = rtk_poly.iloc[indices]\n",
    "print(height)"
   ]
  },
  {
   "cell_type": "markdown",
   "metadata": {},
   "source": [
    "#### Subtract the depth from the bin heights"
   ]
  },
  {
   "cell_type": "code",
   "execution_count": 5,
   "metadata": {},
   "outputs": [
    {
     "name": "stdout",
     "output_type": "stream",
     "text": [
      "                 X             Y           Z\n",
      "0    200613.196892  8.340895e+06  350.930986\n",
      "1    200613.181050  8.340894e+06  350.923986\n",
      "2    200613.198137  8.340894e+06  350.930986\n",
      "3    200613.240594  8.340894e+06  350.916986\n",
      "4    200613.287502  8.340894e+06  350.930986\n",
      "..             ...           ...         ...\n",
      "892  200653.774242  8.340428e+06  352.081000\n",
      "893  200653.777008  8.340428e+06  352.098000\n",
      "894  200653.779865  8.340428e+06  352.083000\n",
      "895  200653.785084  8.340428e+06  352.060000\n",
      "896  200653.781671  8.340428e+06  352.084000\n",
      "\n",
      "[5164 rows x 3 columns]\n"
     ]
    }
   ],
   "source": [
    "height.index = np.arange(height.shape[0])\n",
    "river['Z'] = height['Z'] - river['Depth']\n",
    "xyz_river = river.drop('Depth', axis=1)\n",
    "River_XYZ = pd.concat([xyz_river, rtk_track])\n",
    "print(River_XYZ)"
   ]
  },
  {
   "cell_type": "code",
   "execution_count": 6,
   "metadata": {},
   "outputs": [],
   "source": [
    "# np.savetxt(r'C:\\Users\\SSchurer\\Documents\\TU_Delft\\Thesis\\TNDTT\\River\\River_XYZ.txt', River_XYZ)"
   ]
  }
 ],
 "metadata": {
  "kernelspec": {
   "display_name": "thesis",
   "language": "python",
   "name": "thesis"
  },
  "language_info": {
   "codemirror_mode": {
    "name": "ipython",
    "version": 3
   },
   "file_extension": ".py",
   "mimetype": "text/x-python",
   "name": "python",
   "nbconvert_exporter": "python",
   "pygments_lexer": "ipython3",
   "version": "3.7.6"
  }
 },
 "nbformat": 4,
 "nbformat_minor": 4
}
